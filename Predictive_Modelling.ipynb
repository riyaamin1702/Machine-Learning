{
 "cells": [
  {
   "cell_type": "markdown",
   "metadata": {},
   "source": [
    "# *MATH2319 Machine Learning*\n",
    "\n",
    "# Semester 1, 2021\n",
    "\n"
   ]
  },
  {
   "cell_type": "markdown",
   "metadata": {},
   "source": [
    "# Report Overview <a name=\"RO\"></a>"
   ]
  },
  {
   "cell_type": "markdown",
   "metadata": {},
   "source": [
    "- [Introduction](#Intro)\n",
    "- [Report Overview](#RO)\n",
    "- [Overview of Methodology](#OM)\n",
    "- [Data Pre-processing for Model Evaluation](#DP)\n",
    "- [Predictive Modelling](#PM)\n",
    "  + [Feature Selection](#FS)\n",
    "  + [Model Fitting & Tuning](#MFT)\n",
    "    + [KNN Model](#KNN)\n",
    "    + [Naive Bayes](#NB)\n",
    "    + [Decision Tree](#DT)\n",
    "    + [Random Forest Classifier](#RF)\n",
    "  + [Model Comparision](#MC)\n",
    "- [Critique & Limitations](#CL)\n",
    "- [Summary & Conclusions](#SC)\n",
    "  + [Project Summary](#PS)\n",
    "  + [Summary of Findings](#SF)\n",
    "  + [Conclusions](#C)\n",
    "- [References](#R)"
   ]
  },
  {
   "cell_type": "markdown",
   "metadata": {},
   "source": [
    "# Introduction <a name=\"Intro\"></a>"
   ]
  },
  {
   "cell_type": "markdown",
   "metadata": {},
   "source": [
    "The objective of this case study is to predict the credit card default of clients based in Taiwan. This research aims at the case of customers default payments in Taiwan and compares the predictive accuracy of probability of default using various methods.\n",
    "\n",
    "This dataset includes information on default charges, demographic characteristics, credit records, payment history, and bill statements for credit card clients in Taiwan from April 2005 to September 2005.The data set is derived from the [UCI Machine Learning Repositry](https://archive.ics.uci.edu/ml/datasets/default+of+credit+card+clients).<br>\n"
   ]
  },
  {
   "cell_type": "markdown",
   "metadata": {},
   "source": [
    "# Overview of Methodology <a name=\"OM\"></a>"
   ]
  },
  {
   "cell_type": "markdown",
   "metadata": {},
   "source": [
    "The default of credit card clients dataset which we explored in Phase 1 will be further transformed as appropriate for machine learning. This includes encoding the target feature and normalising the dataset using Min-Max Scaler. <br>\n",
    "\n",
    "Following the normalisation of the dataset, steps will be taken to minimise the number of descriptive features by selecting the optimum features through Random Forest Information feature selection method. We consider 10, 20, and the entire set of features (24 features).Using feature selection and hyperparameter search inside a single pipeline, we execute a 5-fold stratified cross-validation to fine-tune each classifier's hyperparameters using Area under curve 'roc-auc' as the performance metric.<br>\n",
    "\n",
    "The dataset is then split into 70:30 training and testing subsets. Model evaluation is performed first on training data to define the ideal parameters, and then on testing data to assess performance accuracy.\n",
    "\n",
    "Model evaluation is proceeded with the the best feature selection method on the following models:\n",
    "\n",
    "- K-Nearest Neighbours (KNN)\n",
    "- Logistic Regression (LR)\n",
    "- Decision Trees (DT)\n",
    "- Naive Bayes (NB)\n",
    "- Random Forest Classifier (RF)\n",
    "\n",
    "Performance comparison will be conducted on the models with the application of a paired t-test.\n",
    "\n",
    "Confusion matrices are ascertained to determine the outcome of each predictive model."
   ]
  },
  {
   "cell_type": "markdown",
   "metadata": {},
   "source": [
    "# Data Pre-processing for Model Evaluation <a name=\"DP\"></a>"
   ]
  },
  {
   "cell_type": "code",
   "execution_count": 1,
   "metadata": {},
   "outputs": [],
   "source": [
    "import warnings\n",
    "warnings.filterwarnings('ignore')\n",
    "import numpy as np\n",
    "import pandas as pd\n",
    "import seaborn as sn\n",
    "import matplotlib.pyplot as plt\n",
    "import plotly.express as px\n",
    "import altair as alt\n",
    "from sklearn import preprocessing\n",
    "from sklearn.linear_model import LogisticRegression\n",
    "from sklearn.feature_selection import SelectFromModel\n",
    "from sklearn.model_selection import StratifiedShuffleSplit\n",
    "from sklearn.model_selection import cross_val_score\n",
    "from sklearn.model_selection import cross_validate"
   ]
  },
  {
   "cell_type": "code",
   "execution_count": 2,
   "metadata": {},
   "outputs": [
    {
     "data": {
      "text/html": [
       "<div>\n",
       "<style scoped>\n",
       "    .dataframe tbody tr th:only-of-type {\n",
       "        vertical-align: middle;\n",
       "    }\n",
       "\n",
       "    .dataframe tbody tr th {\n",
       "        vertical-align: top;\n",
       "    }\n",
       "\n",
       "    .dataframe thead th {\n",
       "        text-align: right;\n",
       "    }\n",
       "</style>\n",
       "<table border=\"1\" class=\"dataframe\">\n",
       "  <thead>\n",
       "    <tr style=\"text-align: right;\">\n",
       "      <th></th>\n",
       "      <th>LIMIT_BAL</th>\n",
       "      <th>SEX</th>\n",
       "      <th>EDUCATION</th>\n",
       "      <th>MARRIAGE</th>\n",
       "      <th>AGE</th>\n",
       "      <th>PAY_0</th>\n",
       "      <th>PAY_2</th>\n",
       "      <th>PAY_3</th>\n",
       "      <th>PAY_4</th>\n",
       "      <th>PAY_5</th>\n",
       "      <th>...</th>\n",
       "      <th>BILL_AMT4</th>\n",
       "      <th>BILL_AMT5</th>\n",
       "      <th>BILL_AMT6</th>\n",
       "      <th>PAY_AMT1</th>\n",
       "      <th>PAY_AMT2</th>\n",
       "      <th>PAY_AMT3</th>\n",
       "      <th>PAY_AMT4</th>\n",
       "      <th>PAY_AMT5</th>\n",
       "      <th>PAY_AMT6</th>\n",
       "      <th>default.payment.next.month</th>\n",
       "    </tr>\n",
       "  </thead>\n",
       "  <tbody>\n",
       "    <tr>\n",
       "      <th>0</th>\n",
       "      <td>20000.0</td>\n",
       "      <td>2</td>\n",
       "      <td>2</td>\n",
       "      <td>1</td>\n",
       "      <td>24</td>\n",
       "      <td>3</td>\n",
       "      <td>3</td>\n",
       "      <td>-1</td>\n",
       "      <td>-1</td>\n",
       "      <td>-1</td>\n",
       "      <td>...</td>\n",
       "      <td>0.0</td>\n",
       "      <td>0.0</td>\n",
       "      <td>0.0</td>\n",
       "      <td>0.0</td>\n",
       "      <td>689.0</td>\n",
       "      <td>0.0</td>\n",
       "      <td>0.0</td>\n",
       "      <td>0.0</td>\n",
       "      <td>0.0</td>\n",
       "      <td>1</td>\n",
       "    </tr>\n",
       "    <tr>\n",
       "      <th>1</th>\n",
       "      <td>120000.0</td>\n",
       "      <td>2</td>\n",
       "      <td>2</td>\n",
       "      <td>2</td>\n",
       "      <td>26</td>\n",
       "      <td>-1</td>\n",
       "      <td>3</td>\n",
       "      <td>1</td>\n",
       "      <td>1</td>\n",
       "      <td>1</td>\n",
       "      <td>...</td>\n",
       "      <td>3272.0</td>\n",
       "      <td>3455.0</td>\n",
       "      <td>3261.0</td>\n",
       "      <td>0.0</td>\n",
       "      <td>1000.0</td>\n",
       "      <td>1000.0</td>\n",
       "      <td>1000.0</td>\n",
       "      <td>0.0</td>\n",
       "      <td>2000.0</td>\n",
       "      <td>1</td>\n",
       "    </tr>\n",
       "    <tr>\n",
       "      <th>2</th>\n",
       "      <td>90000.0</td>\n",
       "      <td>2</td>\n",
       "      <td>2</td>\n",
       "      <td>2</td>\n",
       "      <td>34</td>\n",
       "      <td>1</td>\n",
       "      <td>1</td>\n",
       "      <td>1</td>\n",
       "      <td>1</td>\n",
       "      <td>1</td>\n",
       "      <td>...</td>\n",
       "      <td>14331.0</td>\n",
       "      <td>14948.0</td>\n",
       "      <td>15549.0</td>\n",
       "      <td>1518.0</td>\n",
       "      <td>1500.0</td>\n",
       "      <td>1000.0</td>\n",
       "      <td>1000.0</td>\n",
       "      <td>1000.0</td>\n",
       "      <td>5000.0</td>\n",
       "      <td>0</td>\n",
       "    </tr>\n",
       "    <tr>\n",
       "      <th>3</th>\n",
       "      <td>50000.0</td>\n",
       "      <td>2</td>\n",
       "      <td>2</td>\n",
       "      <td>1</td>\n",
       "      <td>37</td>\n",
       "      <td>1</td>\n",
       "      <td>1</td>\n",
       "      <td>1</td>\n",
       "      <td>1</td>\n",
       "      <td>1</td>\n",
       "      <td>...</td>\n",
       "      <td>28314.0</td>\n",
       "      <td>28959.0</td>\n",
       "      <td>29547.0</td>\n",
       "      <td>2000.0</td>\n",
       "      <td>2019.0</td>\n",
       "      <td>1200.0</td>\n",
       "      <td>1100.0</td>\n",
       "      <td>1069.0</td>\n",
       "      <td>1000.0</td>\n",
       "      <td>0</td>\n",
       "    </tr>\n",
       "    <tr>\n",
       "      <th>4</th>\n",
       "      <td>50000.0</td>\n",
       "      <td>1</td>\n",
       "      <td>2</td>\n",
       "      <td>1</td>\n",
       "      <td>57</td>\n",
       "      <td>-1</td>\n",
       "      <td>1</td>\n",
       "      <td>-1</td>\n",
       "      <td>1</td>\n",
       "      <td>1</td>\n",
       "      <td>...</td>\n",
       "      <td>20940.0</td>\n",
       "      <td>19146.0</td>\n",
       "      <td>19131.0</td>\n",
       "      <td>2000.0</td>\n",
       "      <td>36681.0</td>\n",
       "      <td>10000.0</td>\n",
       "      <td>9000.0</td>\n",
       "      <td>689.0</td>\n",
       "      <td>679.0</td>\n",
       "      <td>0</td>\n",
       "    </tr>\n",
       "  </tbody>\n",
       "</table>\n",
       "<p>5 rows × 24 columns</p>\n",
       "</div>"
      ],
      "text/plain": [
       "   LIMIT_BAL  SEX  EDUCATION  MARRIAGE  AGE  PAY_0  PAY_2  PAY_3  PAY_4  \\\n",
       "0    20000.0    2          2         1   24      3      3     -1     -1   \n",
       "1   120000.0    2          2         2   26     -1      3      1      1   \n",
       "2    90000.0    2          2         2   34      1      1      1      1   \n",
       "3    50000.0    2          2         1   37      1      1      1      1   \n",
       "4    50000.0    1          2         1   57     -1      1     -1      1   \n",
       "\n",
       "   PAY_5  ...  BILL_AMT4  BILL_AMT5  BILL_AMT6  PAY_AMT1  PAY_AMT2  PAY_AMT3  \\\n",
       "0     -1  ...        0.0        0.0        0.0       0.0     689.0       0.0   \n",
       "1      1  ...     3272.0     3455.0     3261.0       0.0    1000.0    1000.0   \n",
       "2      1  ...    14331.0    14948.0    15549.0    1518.0    1500.0    1000.0   \n",
       "3      1  ...    28314.0    28959.0    29547.0    2000.0    2019.0    1200.0   \n",
       "4      1  ...    20940.0    19146.0    19131.0    2000.0   36681.0   10000.0   \n",
       "\n",
       "   PAY_AMT4  PAY_AMT5  PAY_AMT6  default.payment.next.month  \n",
       "0       0.0       0.0       0.0                           1  \n",
       "1    1000.0       0.0    2000.0                           1  \n",
       "2    1000.0    1000.0    5000.0                           0  \n",
       "3    1100.0    1069.0    1000.0                           0  \n",
       "4    9000.0     689.0     679.0                           0  \n",
       "\n",
       "[5 rows x 24 columns]"
      ]
     },
     "execution_count": 2,
     "metadata": {},
     "output_type": "execute_result"
    }
   ],
   "source": [
    "\n",
    "df = pd.read_csv('Phase1_df.csv',index_col=[0] )\n",
    "df.head()\n"
   ]
  },
  {
   "cell_type": "markdown",
   "metadata": {},
   "source": [
    "\"default.payment.next.month\" is a categorical feature and is hence converted into numeric by storing default payment as '1' and no default payment as '0'"
   ]
  },
  {
   "cell_type": "code",
   "execution_count": 3,
   "metadata": {},
   "outputs": [
    {
     "data": {
      "text/plain": [
       "0    23364\n",
       "1     6636\n",
       "Name: default.payment.next.month, dtype: int64"
      ]
     },
     "execution_count": 3,
     "metadata": {},
     "output_type": "execute_result"
    }
   ],
   "source": [
    "df1 = df.drop(columns='default.payment.next.month')\n",
    "target = df['default.payment.next.month']\n",
    "target.value_counts()"
   ]
  },
  {
   "cell_type": "code",
   "execution_count": 4,
   "metadata": {},
   "outputs": [
    {
     "data": {
      "text/plain": [
       "(array([0, 1], dtype=int64), array([23364,  6636], dtype=int64))"
      ]
     },
     "execution_count": 4,
     "metadata": {},
     "output_type": "execute_result"
    }
   ],
   "source": [
    "np.unique(target, return_counts=True)"
   ]
  },
  {
   "cell_type": "code",
   "execution_count": 5,
   "metadata": {},
   "outputs": [],
   "source": [
    "target1 = pd.DataFrame(target)"
   ]
  },
  {
   "cell_type": "markdown",
   "metadata": {},
   "source": [
    "Changing the column types to int 64 for predictive modelling."
   ]
  },
  {
   "cell_type": "code",
   "execution_count": 6,
   "metadata": {},
   "outputs": [],
   "source": [
    "for col in ['LIMIT_BAL', 'BILL_AMT1', 'BILL_AMT2', 'BILL_AMT3', 'BILL_AMT4', 'BILL_AMT5', 'BILL_AMT6','PAY_AMT1', 'PAY_AMT2', 'PAY_AMT3', 'PAY_AMT4' , 'PAY_AMT5', 'PAY_AMT6']:\n",
    "    df1[col] = df1[col].astype('int64')"
   ]
  },
  {
   "cell_type": "markdown",
   "metadata": {},
   "source": [
    "Checking any missing values"
   ]
  },
  {
   "cell_type": "code",
   "execution_count": 7,
   "metadata": {},
   "outputs": [
    {
     "data": {
      "text/plain": [
       "LIMIT_BAL    0\n",
       "SEX          0\n",
       "EDUCATION    0\n",
       "MARRIAGE     0\n",
       "AGE          0\n",
       "PAY_0        0\n",
       "PAY_2        0\n",
       "PAY_3        0\n",
       "PAY_4        0\n",
       "PAY_5        0\n",
       "PAY_6        0\n",
       "BILL_AMT1    0\n",
       "BILL_AMT2    0\n",
       "BILL_AMT3    0\n",
       "BILL_AMT4    0\n",
       "BILL_AMT5    0\n",
       "BILL_AMT6    0\n",
       "PAY_AMT1     0\n",
       "PAY_AMT2     0\n",
       "PAY_AMT3     0\n",
       "PAY_AMT4     0\n",
       "PAY_AMT5     0\n",
       "PAY_AMT6     0\n",
       "dtype: int64"
      ]
     },
     "execution_count": 7,
     "metadata": {},
     "output_type": "execute_result"
    }
   ],
   "source": [
    "df1.isna().sum()"
   ]
  },
  {
   "cell_type": "markdown",
   "metadata": {},
   "source": [
    "### *Note that the One Hot encoding of the descriptive features is not done separately as the features in the dataset are already encoded*"
   ]
  },
  {
   "cell_type": "markdown",
   "metadata": {},
   "source": [
    "### Scaling of Features\n",
    "\n",
    "A min-max scaling of the descriptive features is performed."
   ]
  },
  {
   "cell_type": "code",
   "execution_count": 8,
   "metadata": {},
   "outputs": [],
   "source": [
    "\n",
    "from sklearn import preprocessing\n",
    "\n",
    "Data_df = df1.copy()\n",
    "\n",
    "Data_s = preprocessing.MinMaxScaler()\n",
    "Data_s.fit(df1)\n",
    "Data = Data_s.fit_transform(df1)\n"
   ]
  },
  {
   "cell_type": "markdown",
   "metadata": {},
   "source": [
    "## Feature Selection <a name=\"FS\"></a>"
   ]
  },
  {
   "cell_type": "markdown",
   "metadata": {},
   "source": [
    "Let's take a look at the top 10 features in the complete dataset as determined by Random Forest Importance (RFI). This is for a fast ranking of the top ten features to acquire insight into the issue at hand. We will add RFI as part of the pipeline during the hyperparameter tuning phase, and we will search over 10, 20, and the entire set of 24 characteristics to discover which number is best."
   ]
  },
  {
   "cell_type": "code",
   "execution_count": 9,
   "metadata": {},
   "outputs": [
    {
     "data": {
      "text/plain": [
       "array(['PAY_0', 'AGE', 'BILL_AMT1', 'LIMIT_BAL', 'BILL_AMT2', 'BILL_AMT3',\n",
       "       'PAY_AMT1', 'BILL_AMT4', 'BILL_AMT6', 'BILL_AMT5'], dtype=object)"
      ]
     },
     "execution_count": 9,
     "metadata": {},
     "output_type": "execute_result"
    }
   ],
   "source": [
    "from sklearn.ensemble import RandomForestClassifier\n",
    "\n",
    "num_features = 10\n",
    "model_rfi = RandomForestClassifier(n_estimators=100)\n",
    "model_rfi.fit(Data, target)\n",
    "fs_indices_rfi = np.argsort(model_rfi.feature_importances_)[::-1][0:num_features]\n",
    "\n",
    "best_features_rfi =Data_df.columns[fs_indices_rfi].values\n",
    "best_features_rfi"
   ]
  },
  {
   "cell_type": "code",
   "execution_count": 10,
   "metadata": {},
   "outputs": [
    {
     "data": {
      "text/plain": [
       "array([0.09198522, 0.06716771, 0.06140139, 0.06001714, 0.05522911,\n",
       "       0.05312338, 0.0528653 , 0.05186835, 0.05109359, 0.05062138])"
      ]
     },
     "execution_count": 10,
     "metadata": {},
     "output_type": "execute_result"
    }
   ],
   "source": [
    "feature_importances_rfi = model_rfi.feature_importances_[fs_indices_rfi]\n",
    "feature_importances_rfi"
   ]
  },
  {
   "cell_type": "markdown",
   "metadata": {},
   "source": [
    "Let's visualize these importances."
   ]
  },
  {
   "cell_type": "code",
   "execution_count": 11,
   "metadata": {},
   "outputs": [],
   "source": [
    "import matplotlib.pyplot as plt\n",
    "%matplotlib inline \n",
    "%config InlineBackend.figure_format = 'retina'\n",
    "plt.style.use(\"ggplot\")\n",
    "\n",
    "def plot_imp(best_features, scores, method_name):   \n",
    "    plt.barh(best_features, scores)\n",
    "    plt.title(method_name + ' Feature Importances')\n",
    "    plt.xlabel(\"Importance\")\n",
    "    plt.ylabel(\"Features\")\n",
    "    plt.show()"
   ]
  },
  {
   "cell_type": "code",
   "execution_count": 12,
   "metadata": {},
   "outputs": [
    {
     "data": {
      "image/png": "[encoded data removed]",
      "text/plain": [
       "<Figure size 432x288 with 1 Axes>"
      ]
     },
     "metadata": {
      "image/png": {
       "height": 281,
       "width": 426
      }
     },
     "output_type": "display_data"
    }
   ],
   "source": [
    "plot_imp(best_features_rfi, feature_importances_rfi, 'Random Forest')"
   ]
  },
  {
   "cell_type": "markdown",
   "metadata": {},
   "source": [
    "We observe that the most important feature is \"Pay_0\" followed by 'Age', 'BILL_AMT1', 'LIMIT_BAL', 'BILL_AMT2', 'BILL_AMT3',and 'PAY_AMT1'"
   ]
  },
  {
   "cell_type": "markdown",
   "metadata": {},
   "source": [
    "# Predictive Modelling <a name=\"PM\"></a>\n",
    "\n",
    "The following models are evaluated to determine which is the best predictive model to determine a credit card defaults.\n",
    "\n",
    "- KNN Model\n",
    "- Logistic Regression\n",
    "- Naive Bayes\n",
    "- Decision Tree\n",
    "\n",
    "\n",
    "The scoring metric 'ROC-AUC' is utilised to determine the performance score of each model on the data which is split into testing and training data.\n",
    "A paired t-test is then conducted to finalise on the best model based on their performance score on the testing data to determine if the models scores are statistically significant or not"
   ]
  },
  {
   "cell_type": "markdown",
   "metadata": {},
   "source": [
    "### Data Sampling & Train-Test Splitting\n",
    "\n",
    "The data is split into a 7:3 ratio with 70% of the data used for training and 30% of the data used for testing. The main purpose of splitting the data is to avoid overfitting and also to determine how well the model performs on new data(testing data)"
   ]
  },
  {
   "cell_type": "code",
   "execution_count": 13,
   "metadata": {},
   "outputs": [
    {
     "name": "stdout",
     "output_type": "stream",
     "text": [
      "(21000, 23)\n",
      "(9000, 23)\n"
     ]
    }
   ],
   "source": [
    "from sklearn.model_selection import train_test_split\n",
    "\n",
    "Data_train, Data_test, \\\n",
    "target_train, target_test = train_test_split(Data, target, \n",
    "                                                    test_size = 0.3, random_state=999,\n",
    "                                                    stratify = target)\n",
    "\n",
    "print(Data_train.shape)\n",
    "print(Data_test.shape)"
   ]
  },
  {
   "cell_type": "markdown",
   "metadata": {},
   "source": [
    "###  Cross Validation\n",
    "To avoid the occurrence of an impartial split, which would jeopardise the credibility of model selection, a 5 fold cross validation with 3 repeats is used.\n",
    "\n",
    "As a result, the percentage of good and poor risk in the dataset is not equal. To ensure that there is no biassed analysis, RepeatedStratifiedKFold is used to guarantee that the proportion of the target variables remains the same for each split for each model assessment. The seed is set to 999 to ensure that the same data is picked each time."
   ]
  },
  {
   "cell_type": "code",
   "execution_count": 103,
   "metadata": {},
   "outputs": [],
   "source": [
    "from sklearn.model_selection import StratifiedKFold, GridSearchCV\n",
    "\n",
    "cv_method = StratifiedKFold(n_splits=5, random_state=999)"
   ]
  },
  {
   "cell_type": "markdown",
   "metadata": {},
   "source": [
    "## Model Fitting & Tuning <a name=\"MFT\"></a>\n",
    "\n",
    "### Model Evaluation Strategy\n",
    "\n",
    "So, we will train and tune our models on 21K rows of training data and we will test them on 9K rows of test data. For each model, we will use 5-fold stratified cross-validation evaluation method (without any repetitions for shorter run times) for hyperparameter tuning."
   ]
  },
  {
   "cell_type": "markdown",
   "metadata": {},
   "source": [
    "### Hyperparameter Tunning\n",
    "To discover the best settings for each model, hyperparameter tuning is used. Pipeline code is used to optimise the settings of Random Forest Importance and the model. The performance score is determined by the scoring measure 'Accuracy.'"
   ]
  },
  {
   "cell_type": "markdown",
   "metadata": {},
   "source": [
    "\n",
    "### K-Nearest Neighbors (KNN) <a name=\"KNN\"></a>\n",
    "\n",
    "Pipeline is used to stack feature selection and grid search for KNN hyperparameter tuning using cross-validation. For NB and DT, we will utilize the same Pipeline technique. The KNN hyperparameters are: number of neighbours (n neighbors) and distance metric p.<br>\n",
    "\n",
    "We apply the powerful Random Forest Importance (RFI) approach with 100 estimators for feature selection. A challenge here is that we need some scripting to make RFI feature selection part of the flow. As a result, we construct the custom RFIFeatureSelector() class below to input RFI into the pipeline as a \"step.\""
   ]
  },
  {
   "cell_type": "code",
   "execution_count": 15,
   "metadata": {},
   "outputs": [],
   "source": [
    "from sklearn.base import BaseEstimator, TransformerMixin\n",
    "\n",
    "# code used from feature ranking notes\n",
    "# custom function for RFI feature selection inside a pipeline\n",
    "# here we use n_estimators=100\n",
    "class RFIFeatureSelector(BaseEstimator, TransformerMixin):\n",
    "    \n",
    "    # class constructor \n",
    "    # make sure class attributes end with a \"_\"\n",
    "    # per scikit-learn convention to avoid errors\n",
    "    def __init__(self, n_features_=10):\n",
    "        self.n_features_ = n_features_\n",
    "        self.fs_indices_ = None\n",
    "\n",
    "    # override the fit function\n",
    "    def fit(self, X, y):\n",
    "        from sklearn.ensemble import RandomForestClassifier\n",
    "        from numpy import argsort\n",
    "        model_rfi = RandomForestClassifier(n_estimators=100)\n",
    "        model_rfi.fit(X, y)\n",
    "        self.fs_indices_ = argsort(model_rfi.feature_importances_)[::-1][0:self.n_features_] \n",
    "        return self \n",
    "    \n",
    "    # override the transform function\n",
    "    def transform(self, X, y=None):\n",
    "        return X[:, self.fs_indices_]"
   ]
  },
  {
   "cell_type": "code",
   "execution_count": 45,
   "metadata": {},
   "outputs": [],
   "source": [
    "from sklearn.pipeline import Pipeline\n",
    "from sklearn.neighbors import KNeighborsClassifier\n",
    "\n",
    "pipe_KNN = Pipeline(steps=[('rfi_fs', RFIFeatureSelector()), \n",
    "                           ('knn', KNeighborsClassifier())])\n",
    "\n",
    "params_pipe_KNN = {'rfi_fs__n_features_': [10, 20, Data.shape[1]],\n",
    "                   'knn__n_neighbors': [1, 5, 10, 15, 20],\n",
    "                   'knn__p': [1, 2]}\n",
    "\n",
    "gs_pipe_KNN = GridSearchCV(estimator=pipe_KNN, \n",
    "                           param_grid=params_pipe_KNN, \n",
    "                           cv=cv_method,\n",
    "                           refit=True,\n",
    "                           n_jobs=-2,\n",
    "                           scoring='roc_auc',\n",
    "                           verbose=1) "
   ]
  },
  {
   "cell_type": "markdown",
   "metadata": {},
   "source": [
    "The pipeline code below illustrates the best number of features to choose from a list of 10, 20, and entire dataset features.\n",
    "The optimal number of nearest neighbours and distance metric when employing a repeated stratified k fold with 'Accuracy' as the scoring metric."
   ]
  },
  {
   "cell_type": "code",
   "execution_count": 46,
   "metadata": {},
   "outputs": [
    {
     "name": "stdout",
     "output_type": "stream",
     "text": [
      "Fitting 5 folds for each of 30 candidates, totalling 150 fits\n"
     ]
    },
    {
     "name": "stderr",
     "output_type": "stream",
     "text": [
      "[Parallel(n_jobs=-2)]: Using backend LokyBackend with 3 concurrent workers.\n",
      "[Parallel(n_jobs=-2)]: Done  44 tasks      | elapsed:  3.6min\n",
      "[Parallel(n_jobs=-2)]: Done 150 out of 150 | elapsed: 12.5min finished\n"
     ]
    }
   ],
   "source": [
    "gs_pipe_KNN.fit(Data_train, target_train);"
   ]
  },
  {
   "cell_type": "markdown",
   "metadata": {},
   "source": [
    "The optimal number of neighbours is 20 and the optimal number of features to be selected for KNN model is the full dataset features i.e 20."
   ]
  },
  {
   "cell_type": "code",
   "execution_count": 48,
   "metadata": {},
   "outputs": [
    {
     "data": {
      "text/plain": [
       "{'knn__n_neighbors': 20, 'knn__p': 1, 'rfi_fs__n_features_': 20}"
      ]
     },
     "execution_count": 48,
     "metadata": {},
     "output_type": "execute_result"
    }
   ],
   "source": [
    "gs_pipe_KNN.best_params_"
   ]
  },
  {
   "cell_type": "code",
   "execution_count": 49,
   "metadata": {},
   "outputs": [
    {
     "data": {
      "text/plain": [
       "0.7434714302779523"
      ]
     },
     "execution_count": 49,
     "metadata": {},
     "output_type": "execute_result"
    }
   ],
   "source": [
    "gs_pipe_KNN.best_score_"
   ]
  },
  {
   "cell_type": "markdown",
   "metadata": {},
   "source": [
    "We find that the best KNN model has a mean AUC score of 0.743. The top performing KNN chose 20 features with 20 nearest neighbours and p=1, the Manhattan distance.\n",
    "Despite the fact that these are the best numbers, let's have a look at the other combinations to determine whether the difference is substantial. To do so, we'll utilise the function below to format the grid search outputs as a Pandas data frame."
   ]
  },
  {
   "cell_type": "code",
   "execution_count": 50,
   "metadata": {},
   "outputs": [],
   "source": [
    "# custom function to format the search results as a Pandas data frame\n",
    "# code from feature ranking notes\n",
    "def get_search_results(gs):\n",
    "\n",
    "    def model_result(scores, params):\n",
    "        scores = {'mean_score': np.mean(scores),\n",
    "             'std_score': np.std(scores),\n",
    "             'min_score': np.min(scores),\n",
    "             'max_score': np.max(scores)}\n",
    "        return pd.Series({**params,**scores})\n",
    "\n",
    "    models = []\n",
    "    scores = []\n",
    "\n",
    "    for i in range(gs.n_splits_):\n",
    "        key = f\"split{i}_test_score\"\n",
    "        r = gs.cv_results_[key]        \n",
    "        scores.append(r.reshape(-1,1))\n",
    "\n",
    "    all_scores = np.hstack(scores)\n",
    "    for p, s in zip(gs.cv_results_['params'], all_scores):\n",
    "        models.append((model_result(s, p)))\n",
    "\n",
    "    pipe_results = pd.concat(models, axis=1).T.sort_values(['mean_score'], ascending=False)\n",
    "\n",
    "    columns_first = ['mean_score', 'std_score', 'max_score', 'min_score']\n",
    "    columns = columns_first + [c for c in pipe_results.columns if c not in columns_first]\n",
    "\n",
    "    return pipe_results[columns]"
   ]
  },
  {
   "cell_type": "code",
   "execution_count": 101,
   "metadata": {},
   "outputs": [
    {
     "data": {
      "text/html": [
       "<div>\n",
       "<style scoped>\n",
       "    .dataframe tbody tr th:only-of-type {\n",
       "        vertical-align: middle;\n",
       "    }\n",
       "\n",
       "    .dataframe tbody tr th {\n",
       "        vertical-align: top;\n",
       "    }\n",
       "\n",
       "    .dataframe thead th {\n",
       "        text-align: right;\n",
       "    }\n",
       "</style>\n",
       "<table border=\"1\" class=\"dataframe\">\n",
       "  <thead>\n",
       "    <tr style=\"text-align: right;\">\n",
       "      <th></th>\n",
       "      <th>mean_score</th>\n",
       "      <th>std_score</th>\n",
       "      <th>max_score</th>\n",
       "      <th>min_score</th>\n",
       "      <th>knn__n_neighbors</th>\n",
       "      <th>knn__p</th>\n",
       "      <th>rfi_fs__n_features_</th>\n",
       "    </tr>\n",
       "  </thead>\n",
       "  <tbody>\n",
       "    <tr>\n",
       "      <th>25</th>\n",
       "      <td>0.743471</td>\n",
       "      <td>0.002849</td>\n",
       "      <td>0.746612</td>\n",
       "      <td>0.738436</td>\n",
       "      <td>20.0</td>\n",
       "      <td>1.0</td>\n",
       "      <td>20.0</td>\n",
       "    </tr>\n",
       "    <tr>\n",
       "      <th>28</th>\n",
       "      <td>0.741040</td>\n",
       "      <td>0.005033</td>\n",
       "      <td>0.745733</td>\n",
       "      <td>0.731316</td>\n",
       "      <td>20.0</td>\n",
       "      <td>2.0</td>\n",
       "      <td>20.0</td>\n",
       "    </tr>\n",
       "    <tr>\n",
       "      <th>19</th>\n",
       "      <td>0.740858</td>\n",
       "      <td>0.005920</td>\n",
       "      <td>0.744716</td>\n",
       "      <td>0.729192</td>\n",
       "      <td>15.0</td>\n",
       "      <td>1.0</td>\n",
       "      <td>20.0</td>\n",
       "    </tr>\n",
       "    <tr>\n",
       "      <th>22</th>\n",
       "      <td>0.737952</td>\n",
       "      <td>0.006104</td>\n",
       "      <td>0.743727</td>\n",
       "      <td>0.727430</td>\n",
       "      <td>15.0</td>\n",
       "      <td>2.0</td>\n",
       "      <td>20.0</td>\n",
       "    </tr>\n",
       "    <tr>\n",
       "      <th>26</th>\n",
       "      <td>0.734094</td>\n",
       "      <td>0.005582</td>\n",
       "      <td>0.743682</td>\n",
       "      <td>0.726572</td>\n",
       "      <td>20.0</td>\n",
       "      <td>1.0</td>\n",
       "      <td>23.0</td>\n",
       "    </tr>\n",
       "  </tbody>\n",
       "</table>\n",
       "</div>"
      ],
      "text/plain": [
       "    mean_score  std_score  max_score  min_score  knn__n_neighbors  knn__p  \\\n",
       "25    0.743471   0.002849   0.746612   0.738436              20.0     1.0   \n",
       "28    0.741040   0.005033   0.745733   0.731316              20.0     2.0   \n",
       "19    0.740858   0.005920   0.744716   0.729192              15.0     1.0   \n",
       "22    0.737952   0.006104   0.743727   0.727430              15.0     2.0   \n",
       "26    0.734094   0.005582   0.743682   0.726572              20.0     1.0   \n",
       "\n",
       "    rfi_fs__n_features_  \n",
       "25                 20.0  \n",
       "28                 20.0  \n",
       "19                 20.0  \n",
       "22                 20.0  \n",
       "26                 23.0  "
      ]
     },
     "execution_count": 101,
     "metadata": {},
     "output_type": "execute_result"
    }
   ],
   "source": [
    "KNN_results = get_search_results(gs_pipe_KNN)\n",
    "KNN_results.head()"
   ]
  },
  {
   "cell_type": "markdown",
   "metadata": {},
   "source": [
    "We observe that the difference between the hyperparameter combinations is not really much when conditioned on the number of features selected. Let's visualize the results of the grid search corresponding to 10 selected features."
   ]
  },
  {
   "cell_type": "code",
   "execution_count": 100,
   "metadata": {},
   "outputs": [
    {
     "data": {
      "image/png": "[encoded data removed]",
      "text/plain": [
       "<Figure size 432x288 with 1 Axes>"
      ]
     },
     "metadata": {
      "image/png": {
       "height": 281,
       "width": 399
      }
     },
     "output_type": "display_data"
    }
   ],
   "source": [
    "KNN_results_10_features = KNN_results[KNN_results['rfi_fs__n_features_'] == 10.0]\n",
    "\n",
    "for i in KNN_results_10_features['knn__p'].unique():\n",
    "    temp = KNN_results_10_features[KNN_results_10_features['knn__p'] == i]\n",
    "    plt.plot(temp['knn__n_neighbors'], temp['mean_score'], marker = '.', label = i)\n",
    "    \n",
    "plt.legend(title = \"p\")\n",
    "plt.xlabel('Number of Neighbors')\n",
    "plt.ylabel(\"roc_auc\")\n",
    "plt.title(\"KNN Performance Comparison with 10 Features\")\n",
    "plt.show()"
   ]
  },
  {
   "cell_type": "markdown",
   "metadata": {},
   "source": [
    "### Logistic Regresssion\n",
    "\n",
    "Logistic Regression is a Machine Learning technique that is used for classification issues; it is a predictive analytic approach that is based on the probability notion. \n",
    "Below we defined logistic regression to fit the training data to find the AUC of the model"
   ]
  },
  {
   "cell_type": "code",
   "execution_count": 53,
   "metadata": {},
   "outputs": [],
   "source": [
    "def logistic_regression(imbalance=False):\n",
    "    \n",
    "    lr = LogisticRegression(random_state=42)\n",
    "    \n",
    "    # Fitting the model\n",
    "    lr.fit(Data_train, target_train)\n",
    "\n",
    "    # Using model's default parameters for cross validation score\n",
    "    cv = cross_val_score(lr, Data_train, target_train, scoring =\"roc_auc\", cv = cv_method)\n",
    "    accuracy_lr = np.mean(cv)"
   ]
  },
  {
   "cell_type": "markdown",
   "metadata": {},
   "source": [
    "#### Tuning parameters of Logistic Regression"
   ]
  },
  {
   "cell_type": "code",
   "execution_count": 54,
   "metadata": {},
   "outputs": [
    {
     "name": "stdout",
     "output_type": "stream",
     "text": [
      "{'C': 3.329770563201687, 'penalty': 'l1'}\n"
     ]
    }
   ],
   "source": [
    "# A randomised search for the optimal C parameter is performed.\n",
    "\n",
    "from sklearn.model_selection import RandomizedSearchCV\n",
    "from scipy.stats import uniform\n",
    "\n",
    "logr = LogisticRegression(solver='saga', tol=1e-2, max_iter=100,random_state=34)\n",
    "dist = dict(C=uniform(loc=0, scale=4), penalty=['l2', 'l1'])\n",
    "lr_cf = RandomizedSearchCV(logr, dist, random_state=42)\n",
    "\n",
    "best_lr= lr_cf.fit(Data_train, target_train)   \n",
    "\n",
    "print(best_lr.best_params_)"
   ]
  },
  {
   "cell_type": "code",
   "execution_count": 64,
   "metadata": {},
   "outputs": [
    {
     "data": {
      "text/plain": [
       "0.7125224803941345"
      ]
     },
     "execution_count": 64,
     "metadata": {},
     "output_type": "execute_result"
    }
   ],
   "source": [
    "#Get Accuracy score of tuned model on training data\n",
    "\n",
    "lr_tuned = cross_val_score(best_lr, Data_train, target_train, scoring = \"roc_auc\", cv = cv_method)\n",
    "roc_lr_best = np.mean(lr_tuned)\n",
    "\n",
    "roc_lr_best"
   ]
  },
  {
   "cell_type": "markdown",
   "metadata": {},
   "source": [
    "We find that the best AUC score of Logistic Regression Model is 0.712. "
   ]
  },
  {
   "cell_type": "code",
   "execution_count": 65,
   "metadata": {},
   "outputs": [
    {
     "data": {
      "text/html": [
       "<div>\n",
       "<style scoped>\n",
       "    .dataframe tbody tr th:only-of-type {\n",
       "        vertical-align: middle;\n",
       "    }\n",
       "\n",
       "    .dataframe tbody tr th {\n",
       "        vertical-align: top;\n",
       "    }\n",
       "\n",
       "    .dataframe thead th {\n",
       "        text-align: right;\n",
       "    }\n",
       "</style>\n",
       "<table border=\"1\" class=\"dataframe\">\n",
       "  <thead>\n",
       "    <tr style=\"text-align: right;\">\n",
       "      <th></th>\n",
       "      <th>mean_score</th>\n",
       "      <th>std_score</th>\n",
       "      <th>max_score</th>\n",
       "      <th>min_score</th>\n",
       "      <th>C</th>\n",
       "      <th>penalty</th>\n",
       "    </tr>\n",
       "  </thead>\n",
       "  <tbody>\n",
       "    <tr>\n",
       "      <th>8</th>\n",
       "      <td>0.803</td>\n",
       "      <td>0.00362218</td>\n",
       "      <td>0.809286</td>\n",
       "      <td>0.799524</td>\n",
       "      <td>3.32977</td>\n",
       "      <td>l1</td>\n",
       "    </tr>\n",
       "    <tr>\n",
       "      <th>6</th>\n",
       "      <td>0.802952</td>\n",
       "      <td>0.00366574</td>\n",
       "      <td>0.809286</td>\n",
       "      <td>0.799524</td>\n",
       "      <td>2.83229</td>\n",
       "      <td>l1</td>\n",
       "    </tr>\n",
       "    <tr>\n",
       "      <th>5</th>\n",
       "      <td>0.802524</td>\n",
       "      <td>0.00350445</td>\n",
       "      <td>0.808333</td>\n",
       "      <td>0.798333</td>\n",
       "      <td>1.33483</td>\n",
       "      <td>l1</td>\n",
       "    </tr>\n",
       "    <tr>\n",
       "      <th>3</th>\n",
       "      <td>0.802333</td>\n",
       "      <td>0.00373256</td>\n",
       "      <td>0.808333</td>\n",
       "      <td>0.798333</td>\n",
       "      <td>1.78333</td>\n",
       "      <td>l2</td>\n",
       "    </tr>\n",
       "    <tr>\n",
       "      <th>0</th>\n",
       "      <td>0.802286</td>\n",
       "      <td>0.00358442</td>\n",
       "      <td>0.808095</td>\n",
       "      <td>0.798333</td>\n",
       "      <td>1.49816</td>\n",
       "      <td>l2</td>\n",
       "    </tr>\n",
       "  </tbody>\n",
       "</table>\n",
       "</div>"
      ],
      "text/plain": [
       "  mean_score   std_score max_score min_score        C penalty\n",
       "8      0.803  0.00362218  0.809286  0.799524  3.32977      l1\n",
       "6   0.802952  0.00366574  0.809286  0.799524  2.83229      l1\n",
       "5   0.802524  0.00350445  0.808333  0.798333  1.33483      l1\n",
       "3   0.802333  0.00373256  0.808333  0.798333  1.78333      l2\n",
       "0   0.802286  0.00358442  0.808095  0.798333  1.49816      l2"
      ]
     },
     "execution_count": 65,
     "metadata": {},
     "output_type": "execute_result"
    }
   ],
   "source": [
    "lr_results = get_search_results(best_lr)\n",
    "lr_results.head()"
   ]
  },
  {
   "cell_type": "markdown",
   "metadata": {},
   "source": [
    "We observe that the difference between the hyperparameter combinations is not really much when conditioned on the parameters. Let's visualize the results of the grid search corresponding selected features."
   ]
  },
  {
   "cell_type": "code",
   "execution_count": 75,
   "metadata": {},
   "outputs": [
    {
     "data": {
      "image/png": "[encoded data removed]",
      "text/plain": [
       "<Figure size 432x288 with 1 Axes>"
      ]
     },
     "metadata": {
      "image/png": {
       "height": 281,
       "width": 448
      }
     },
     "output_type": "display_data"
    }
   ],
   "source": [
    "for i in lr_results['penalty'].unique():\n",
    "    temp = lr_results[lr_results['penalty'] == i]\n",
    "    plt.plot(temp['C'], temp['mean_score'], marker = '.', label = i)\n",
    "    \n",
    "plt.legend(title = \"p\")\n",
    "plt.xlabel('C')\n",
    "plt.ylabel(\"roc_auc\")\n",
    "plt.title(\"Logistic Regression Performance Comparison with Features\")\n",
    "plt.show()"
   ]
  },
  {
   "cell_type": "markdown",
   "metadata": {},
   "source": [
    "### Gaussian Naive Bayes (NB) <a name=\"NB\"></a>\n",
    "\n",
    "Gaussian Naive Bayes model analyses data under the premise that it is normally distributed. Because this is not always the case with real-world data, Power transformation is used to bring the data closer to a normal distribution.\n",
    "\n",
    "Sklearn's PowerTransformer,preprocessing is utilised to conduct the power transformation.\n"
   ]
  },
  {
   "cell_type": "code",
   "execution_count": 67,
   "metadata": {},
   "outputs": [],
   "source": [
    "from sklearn.preprocessing import PowerTransformer\n",
    "Data_tt = PowerTransformer().fit_transform(Data_train)\n",
    "Data_ttest = PowerTransformer().fit_transform(Data_test)"
   ]
  },
  {
   "cell_type": "markdown",
   "metadata": {},
   "source": [
    "When training a Naive Bayes model, the pipeline code below is used to find the ideal number of features and variable smoothing."
   ]
  },
  {
   "cell_type": "code",
   "execution_count": 68,
   "metadata": {},
   "outputs": [
    {
     "name": "stdout",
     "output_type": "stream",
     "text": [
      "Fitting 5 folds for each of 20 candidates, totalling 100 fits\n"
     ]
    },
    {
     "name": "stderr",
     "output_type": "stream",
     "text": [
      "[Parallel(n_jobs=-2)]: Using backend LokyBackend with 3 concurrent workers.\n",
      "[Parallel(n_jobs=-2)]: Done  44 tasks      | elapsed:  2.9min\n",
      "[Parallel(n_jobs=-2)]: Done 100 out of 100 | elapsed:  6.6min finished\n"
     ]
    }
   ],
   "source": [
    "from sklearn.naive_bayes import GaussianNB\n",
    "from sklearn.model_selection import RandomizedSearchCV\n",
    "\n",
    "pipe_NB = Pipeline([('rfi_fs', RFIFeatureSelector()), \n",
    "                     ('nb', GaussianNB())])\n",
    "\n",
    "params_pipe_NB = {'rfi_fs__n_features_': [10, 20, Data.shape[1]],\n",
    "                  'nb__var_smoothing': np.logspace(1,-3, num=200)}\n",
    "\n",
    "n_iter_search = 20\n",
    "gs_pipe_NB = RandomizedSearchCV(estimator=pipe_NB, \n",
    "                          param_distributions=params_pipe_NB, \n",
    "                          cv=cv_method,\n",
    "                          refit=True,\n",
    "                          n_jobs=-2,\n",
    "                          scoring='roc_auc',\n",
    "                          n_iter=n_iter_search,\n",
    "                          verbose=1) \n",
    "\n",
    "gs_pipe_NB.fit(Data_tt, target_train);"
   ]
  },
  {
   "cell_type": "markdown",
   "metadata": {},
   "source": [
    "Naive Bayes model shows the ideal number of features as 23"
   ]
  },
  {
   "cell_type": "code",
   "execution_count": 69,
   "metadata": {},
   "outputs": [
    {
     "data": {
      "text/plain": [
       "{'rfi_fs__n_features_': 23, 'nb__var_smoothing': 0.0027682866303920667}"
      ]
     },
     "execution_count": 69,
     "metadata": {},
     "output_type": "execute_result"
    }
   ],
   "source": [
    "gs_pipe_NB.best_params_"
   ]
  },
  {
   "cell_type": "markdown",
   "metadata": {},
   "source": [
    "The performance score of Naive Bayes model with 23 features is 0.719"
   ]
  },
  {
   "cell_type": "code",
   "execution_count": 70,
   "metadata": {},
   "outputs": [
    {
     "data": {
      "text/plain": [
       "0.7193256523468955"
      ]
     },
     "execution_count": 70,
     "metadata": {},
     "output_type": "execute_result"
    }
   ],
   "source": [
    "gs_pipe_NB.best_score_"
   ]
  },
  {
   "cell_type": "markdown",
   "metadata": {},
   "source": [
    "A dataframe grid is generated below to display the performance scores with varying numbers of features and var smoothing values and to determine if the results are significantly different or not."
   ]
  },
  {
   "cell_type": "code",
   "execution_count": 73,
   "metadata": {},
   "outputs": [
    {
     "data": {
      "text/html": [
       "<div>\n",
       "<style scoped>\n",
       "    .dataframe tbody tr th:only-of-type {\n",
       "        vertical-align: middle;\n",
       "    }\n",
       "\n",
       "    .dataframe tbody tr th {\n",
       "        vertical-align: top;\n",
       "    }\n",
       "\n",
       "    .dataframe thead th {\n",
       "        text-align: right;\n",
       "    }\n",
       "</style>\n",
       "<table border=\"1\" class=\"dataframe\">\n",
       "  <thead>\n",
       "    <tr style=\"text-align: right;\">\n",
       "      <th></th>\n",
       "      <th>mean_score</th>\n",
       "      <th>std_score</th>\n",
       "      <th>max_score</th>\n",
       "      <th>min_score</th>\n",
       "      <th>rfi_fs__n_features_</th>\n",
       "      <th>nb__var_smoothing</th>\n",
       "    </tr>\n",
       "  </thead>\n",
       "  <tbody>\n",
       "    <tr>\n",
       "      <th>14</th>\n",
       "      <td>0.719326</td>\n",
       "      <td>0.008594</td>\n",
       "      <td>0.729768</td>\n",
       "      <td>0.707381</td>\n",
       "      <td>23.0</td>\n",
       "      <td>0.002768</td>\n",
       "    </tr>\n",
       "    <tr>\n",
       "      <th>11</th>\n",
       "      <td>0.719271</td>\n",
       "      <td>0.008546</td>\n",
       "      <td>0.729619</td>\n",
       "      <td>0.707352</td>\n",
       "      <td>23.0</td>\n",
       "      <td>0.015344</td>\n",
       "    </tr>\n",
       "    <tr>\n",
       "      <th>7</th>\n",
       "      <td>0.719232</td>\n",
       "      <td>0.008515</td>\n",
       "      <td>0.729526</td>\n",
       "      <td>0.707336</td>\n",
       "      <td>23.0</td>\n",
       "      <td>0.022219</td>\n",
       "    </tr>\n",
       "    <tr>\n",
       "      <th>19</th>\n",
       "      <td>0.718805</td>\n",
       "      <td>0.008234</td>\n",
       "      <td>0.728544</td>\n",
       "      <td>0.707138</td>\n",
       "      <td>23.0</td>\n",
       "      <td>0.097712</td>\n",
       "    </tr>\n",
       "    <tr>\n",
       "      <th>4</th>\n",
       "      <td>0.718062</td>\n",
       "      <td>0.009197</td>\n",
       "      <td>0.730021</td>\n",
       "      <td>0.705162</td>\n",
       "      <td>20.0</td>\n",
       "      <td>0.004398</td>\n",
       "    </tr>\n",
       "  </tbody>\n",
       "</table>\n",
       "</div>"
      ],
      "text/plain": [
       "    mean_score  std_score  max_score  min_score  rfi_fs__n_features_  \\\n",
       "14    0.719326   0.008594   0.729768   0.707381                 23.0   \n",
       "11    0.719271   0.008546   0.729619   0.707352                 23.0   \n",
       "7     0.719232   0.008515   0.729526   0.707336                 23.0   \n",
       "19    0.718805   0.008234   0.728544   0.707138                 23.0   \n",
       "4     0.718062   0.009197   0.730021   0.705162                 20.0   \n",
       "\n",
       "    nb__var_smoothing  \n",
       "14           0.002768  \n",
       "11           0.015344  \n",
       "7            0.022219  \n",
       "19           0.097712  \n",
       "4            0.004398  "
      ]
     },
     "execution_count": 73,
     "metadata": {},
     "output_type": "execute_result"
    }
   ],
   "source": [
    "NB_results = get_search_results(gs_pipe_NB)\n",
    "NB_results.head()"
   ]
  },
  {
   "cell_type": "markdown",
   "metadata": {},
   "source": [
    "From the table above is it observed that 23 is the most ideal number of features to be selected."
   ]
  },
  {
   "cell_type": "markdown",
   "metadata": {},
   "source": [
    "Let's visualize the search results."
   ]
  },
  {
   "cell_type": "code",
   "execution_count": 99,
   "metadata": {},
   "outputs": [
    {
     "data": {
      "image/png": "[encoded data removed]",
      "text/plain": [
       "<Figure size 432x288 with 1 Axes>"
      ]
     },
     "metadata": {
      "image/png": {
       "height": 281,
       "width": 435
      }
     },
     "output_type": "display_data"
    }
   ],
   "source": [
    "NB_results_10_features = NB_results[NB_results['rfi_fs__n_features_'] == 10.0].sort_values('nb__var_smoothing')\n",
    "\n",
    "plt.plot(NB_results_10_features['nb__var_smoothing'], NB_results_10_features['mean_score'], marker = '.', label = i)    \n",
    "plt.xlabel('Var. Smoothing')\n",
    "plt.ylabel(\"roc_auc\")\n",
    "plt.title(\"Naive Bayes Performance Comparison with 10 Features\")\n",
    "plt.show()"
   ]
  },
  {
   "cell_type": "markdown",
   "metadata": {},
   "source": [
    "### Decision Trees (DT) <a name=\"DT\"></a>\n",
    "\n",
    "A pipeline is built to identify the best parameters for the RFI and DT models. When implementing the DT model, RFI is fitted to identify the ideal amount of features. DT's maximum depth is set to 3, 4, and 5. The minimum sample split is set to 2 and the maximum sample split is set to 5."
   ]
  },
  {
   "cell_type": "code",
   "execution_count": 78,
   "metadata": {},
   "outputs": [
    {
     "name": "stdout",
     "output_type": "stream",
     "text": [
      "Fitting 5 folds for each of 18 candidates, totalling 90 fits\n"
     ]
    },
    {
     "name": "stderr",
     "output_type": "stream",
     "text": [
      "[Parallel(n_jobs=-2)]: Using backend LokyBackend with 3 concurrent workers.\n",
      "[Parallel(n_jobs=-2)]: Done  44 tasks      | elapsed:  3.0min\n",
      "[Parallel(n_jobs=-2)]: Done  90 out of  90 | elapsed:  6.1min finished\n"
     ]
    },
    {
     "data": {
      "text/plain": [
       "GridSearchCV(cv=StratifiedKFold(n_splits=5, random_state=999, shuffle=False),\n",
       "             error_score=nan,\n",
       "             estimator=Pipeline(memory=None,\n",
       "                                steps=[('rfi_fs',\n",
       "                                        RFIFeatureSelector(n_features_=10)),\n",
       "                                       ('dt',\n",
       "                                        DecisionTreeClassifier(ccp_alpha=0.0,\n",
       "                                                               class_weight=None,\n",
       "                                                               criterion='gini',\n",
       "                                                               max_depth=None,\n",
       "                                                               max_features=None,\n",
       "                                                               max_leaf_nodes=None,\n",
       "                                                               min_impurity_decrease=0.0,\n",
       "                                                               min_impurity_split...\n",
       "                                                               min_samples_leaf=1,\n",
       "                                                               min_samples_split=2,\n",
       "                                                               min_weight_fraction_leaf=0.0,\n",
       "                                                               presort='deprecated',\n",
       "                                                               random_state=111,\n",
       "                                                               splitter='best'))],\n",
       "                                verbose=False),\n",
       "             iid='deprecated', n_jobs=-2,\n",
       "             param_grid={'dt__max_depth': [3, 4, 5],\n",
       "                         'dt__min_samples_split': [2, 5],\n",
       "                         'rfi_fs__n_features_': [10, 20, 23]},\n",
       "             pre_dispatch='2*n_jobs', refit=True, return_train_score=False,\n",
       "             scoring='roc_auc', verbose=1)"
      ]
     },
     "execution_count": 78,
     "metadata": {},
     "output_type": "execute_result"
    }
   ],
   "source": [
    "from sklearn.tree import DecisionTreeClassifier\n",
    "\n",
    "pipe_DT = Pipeline([('rfi_fs', RFIFeatureSelector()),\n",
    "                    ('dt', DecisionTreeClassifier(criterion='gini', random_state=111))])\n",
    "\n",
    "params_pipe_DT = {'rfi_fs__n_features_': [10, 20, Data.shape[1]],\n",
    "                  'dt__max_depth': [3, 4, 5],\n",
    "                  'dt__min_samples_split': [2, 5]}\n",
    "\n",
    "gs_pipe_DT = GridSearchCV(estimator=pipe_DT, \n",
    "                          param_grid=params_pipe_DT, \n",
    "                          cv=cv_method,\n",
    "                          refit=True,\n",
    "                          n_jobs=-2,\n",
    "                          scoring='roc_auc',\n",
    "                          verbose=1) \n",
    "\n",
    "gs_pipe_DT.fit(Data_train, target_train)"
   ]
  },
  {
   "cell_type": "markdown",
   "metadata": {},
   "source": [
    "The optimum maximum depth is 5, the optimum minimum sample split is 5, and the ideal number of features is 20."
   ]
  },
  {
   "cell_type": "code",
   "execution_count": 80,
   "metadata": {},
   "outputs": [
    {
     "data": {
      "text/plain": [
       "{'dt__max_depth': 5, 'dt__min_samples_split': 5, 'rfi_fs__n_features_': 20}"
      ]
     },
     "execution_count": 80,
     "metadata": {},
     "output_type": "execute_result"
    }
   ],
   "source": [
    "gs_pipe_DT.best_params_"
   ]
  },
  {
   "cell_type": "markdown",
   "metadata": {},
   "source": [
    "The AUC of DT with 20 features is 0.753"
   ]
  },
  {
   "cell_type": "code",
   "execution_count": 81,
   "metadata": {},
   "outputs": [
    {
     "data": {
      "text/plain": [
       "0.7537803425674757"
      ]
     },
     "execution_count": 81,
     "metadata": {},
     "output_type": "execute_result"
    }
   ],
   "source": [
    "gs_pipe_DT.best_score_"
   ]
  },
  {
   "cell_type": "code",
   "execution_count": 98,
   "metadata": {},
   "outputs": [
    {
     "data": {
      "image/png": "[encoded data removed]",
      "text/plain": [
       "<Figure size 432x288 with 1 Axes>"
      ]
     },
     "metadata": {
      "image/png": {
       "height": 281,
       "width": 439
      }
     },
     "output_type": "display_data"
    }
   ],
   "source": [
    "DT_results = get_search_results(gs_pipe_DT)\n",
    "DT_results_10_features = DT_results[DT_results['rfi_fs__n_features_'] == 10.0]\n",
    "\n",
    "\n",
    "for i in DT_results_10_features['dt__max_depth'].unique():\n",
    "    temp = DT_results_10_features[DT_results_10_features['dt__max_depth'] == i]\n",
    "    plt.plot(temp['dt__min_samples_split'], temp['mean_score'], marker = '.', label = i)\n",
    "    \n",
    "plt.legend(title = \"Max Depth\")\n",
    "plt.xlabel('Min Samples for Split')\n",
    "plt.ylabel(\"roc_auc\")\n",
    "plt.title(\"Decision Tree Performance Comparison with 10 Features\")\n",
    "plt.show()"
   ]
  },
  {
   "cell_type": "markdown",
   "metadata": {},
   "source": [
    "Above is a graphical depiction of the grid dataframe with number of features=20. Because max depth 5 has the maximum AUC, more fine tuning is performed to see whether reducing the depth may result in a more perfect model."
   ]
  },
  {
   "cell_type": "markdown",
   "metadata": {},
   "source": [
    "### Further Fine Tuning\n",
    "We note that the best value for the maximum depth hyperparameter is at the very edge of its search area. As a result, we must go above and beyond what we have previously attempted to ensure that we do not lose out on even greater values. As a result, we will do a new search, as shown below."
   ]
  },
  {
   "cell_type": "code",
   "execution_count": 83,
   "metadata": {},
   "outputs": [
    {
     "name": "stdout",
     "output_type": "stream",
     "text": [
      "Fitting 5 folds for each of 12 candidates, totalling 60 fits\n"
     ]
    },
    {
     "name": "stderr",
     "output_type": "stream",
     "text": [
      "[Parallel(n_jobs=-2)]: Using backend LokyBackend with 3 concurrent workers.\n",
      "[Parallel(n_jobs=-2)]: Done  44 tasks      | elapsed:  2.8min\n",
      "[Parallel(n_jobs=-2)]: Done  60 out of  60 | elapsed:  3.7min finished\n"
     ]
    }
   ],
   "source": [
    "params_pipe_DT2 = {'rfi_fs__n_features_': [10],\n",
    "                  'dt__max_depth': [1, 2, 3],\n",
    "                  'dt__min_samples_split': [5, 50, 100, 150]}\n",
    "\n",
    "gs_pipe_DT2 = GridSearchCV(estimator=pipe_DT, \n",
    "                          param_grid=params_pipe_DT2, \n",
    "                          cv=cv_method,\n",
    "                          refit=True,\n",
    "                          n_jobs=-2,\n",
    "                          scoring='roc_auc',\n",
    "                          verbose=1) \n",
    "\n",
    "gs_pipe_DT2.fit(Data_train, target_train);"
   ]
  },
  {
   "cell_type": "markdown",
   "metadata": {},
   "source": [
    "As suspected, we can achieve slightly better results with the new search space. Max depth of 3 is more ideal than max depth of 5 with 10 features. "
   ]
  },
  {
   "cell_type": "code",
   "execution_count": 84,
   "metadata": {},
   "outputs": [
    {
     "data": {
      "text/plain": [
       "{'dt__max_depth': 3, 'dt__min_samples_split': 150, 'rfi_fs__n_features_': 10}"
      ]
     },
     "execution_count": 84,
     "metadata": {},
     "output_type": "execute_result"
    }
   ],
   "source": [
    "gs_pipe_DT2.best_params_"
   ]
  },
  {
   "cell_type": "markdown",
   "metadata": {},
   "source": [
    "The performance score now is 0.720 which is slightly lower than when the max-depth was 5"
   ]
  },
  {
   "cell_type": "code",
   "execution_count": 85,
   "metadata": {},
   "outputs": [
    {
     "data": {
      "text/plain": [
       "0.720961780779588"
      ]
     },
     "execution_count": 85,
     "metadata": {},
     "output_type": "execute_result"
    }
   ],
   "source": [
    "gs_pipe_DT2.best_score_"
   ]
  },
  {
   "cell_type": "code",
   "execution_count": 86,
   "metadata": {},
   "outputs": [
    {
     "data": {
      "text/html": [
       "<div>\n",
       "<style scoped>\n",
       "    .dataframe tbody tr th:only-of-type {\n",
       "        vertical-align: middle;\n",
       "    }\n",
       "\n",
       "    .dataframe tbody tr th {\n",
       "        vertical-align: top;\n",
       "    }\n",
       "\n",
       "    .dataframe thead th {\n",
       "        text-align: right;\n",
       "    }\n",
       "</style>\n",
       "<table border=\"1\" class=\"dataframe\">\n",
       "  <thead>\n",
       "    <tr style=\"text-align: right;\">\n",
       "      <th></th>\n",
       "      <th>mean_score</th>\n",
       "      <th>std_score</th>\n",
       "      <th>max_score</th>\n",
       "      <th>min_score</th>\n",
       "      <th>dt__max_depth</th>\n",
       "      <th>dt__min_samples_split</th>\n",
       "      <th>rfi_fs__n_features_</th>\n",
       "    </tr>\n",
       "  </thead>\n",
       "  <tbody>\n",
       "    <tr>\n",
       "      <th>11</th>\n",
       "      <td>0.720962</td>\n",
       "      <td>0.007619</td>\n",
       "      <td>0.730080</td>\n",
       "      <td>0.708603</td>\n",
       "      <td>3.0</td>\n",
       "      <td>150.0</td>\n",
       "      <td>10.0</td>\n",
       "    </tr>\n",
       "    <tr>\n",
       "      <th>10</th>\n",
       "      <td>0.720906</td>\n",
       "      <td>0.007607</td>\n",
       "      <td>0.730080</td>\n",
       "      <td>0.708603</td>\n",
       "      <td>3.0</td>\n",
       "      <td>100.0</td>\n",
       "      <td>10.0</td>\n",
       "    </tr>\n",
       "    <tr>\n",
       "      <th>9</th>\n",
       "      <td>0.720482</td>\n",
       "      <td>0.008118</td>\n",
       "      <td>0.730025</td>\n",
       "      <td>0.707004</td>\n",
       "      <td>3.0</td>\n",
       "      <td>50.0</td>\n",
       "      <td>10.0</td>\n",
       "    </tr>\n",
       "    <tr>\n",
       "      <th>8</th>\n",
       "      <td>0.720074</td>\n",
       "      <td>0.008360</td>\n",
       "      <td>0.730025</td>\n",
       "      <td>0.707004</td>\n",
       "      <td>3.0</td>\n",
       "      <td>5.0</td>\n",
       "      <td>10.0</td>\n",
       "    </tr>\n",
       "    <tr>\n",
       "      <th>4</th>\n",
       "      <td>0.698036</td>\n",
       "      <td>0.005014</td>\n",
       "      <td>0.704815</td>\n",
       "      <td>0.691772</td>\n",
       "      <td>2.0</td>\n",
       "      <td>5.0</td>\n",
       "      <td>10.0</td>\n",
       "    </tr>\n",
       "  </tbody>\n",
       "</table>\n",
       "</div>"
      ],
      "text/plain": [
       "    mean_score  std_score  max_score  min_score  dt__max_depth  \\\n",
       "11    0.720962   0.007619   0.730080   0.708603            3.0   \n",
       "10    0.720906   0.007607   0.730080   0.708603            3.0   \n",
       "9     0.720482   0.008118   0.730025   0.707004            3.0   \n",
       "8     0.720074   0.008360   0.730025   0.707004            3.0   \n",
       "4     0.698036   0.005014   0.704815   0.691772            2.0   \n",
       "\n",
       "    dt__min_samples_split  rfi_fs__n_features_  \n",
       "11                  150.0                 10.0  \n",
       "10                  100.0                 10.0  \n",
       "9                    50.0                 10.0  \n",
       "8                     5.0                 10.0  \n",
       "4                     5.0                 10.0  "
      ]
     },
     "execution_count": 86,
     "metadata": {},
     "output_type": "execute_result"
    }
   ],
   "source": [
    "DT2_results = get_search_results(gs_pipe_DT2)\n",
    "DT2_results.head()"
   ]
  },
  {
   "cell_type": "markdown",
   "metadata": {},
   "source": [
    "We observe that the cross-validated AUC score difference between the hyperparameter combinations is the same. A visualization of the new search results is shown below."
   ]
  },
  {
   "cell_type": "code",
   "execution_count": 88,
   "metadata": {},
   "outputs": [
    {
     "data": {
      "image/png": "[encoded data removed]",
      "text/plain": [
       "<Figure size 432x288 with 1 Axes>"
      ]
     },
     "metadata": {
      "image/png": {
       "height": 281,
       "width": 440
      }
     },
     "output_type": "display_data"
    }
   ],
   "source": [
    "DT2_results_10_features = DT2_results[DT2_results['rfi_fs__n_features_'] == 10.0].sort_values('dt__min_samples_split')\n",
    "\n",
    "\n",
    "for i in DT2_results_10_features['dt__max_depth'].unique():\n",
    "    temp = DT2_results_10_features[DT2_results_10_features['dt__max_depth'] == i]\n",
    "    plt.plot(temp['dt__min_samples_split'], temp['mean_score'], marker = '.', label = i)\n",
    "    \n",
    "plt.legend(title = \"Max Depth\")\n",
    "plt.xlabel('Min Samples for Split')\n",
    "plt.ylabel(\"roc_auc\")\n",
    "plt.title(\"Decision Tree 2 Performance Comparison with 10 Features\")\n",
    "plt.show()"
   ]
  },
  {
   "cell_type": "markdown",
   "metadata": {},
   "source": [
    "### Random Forest classifier <a name=\"RF\"></a>"
   ]
  },
  {
   "cell_type": "markdown",
   "metadata": {},
   "source": [
    "The random forest classifier is a model based on the concept of \"bagging,\" with decision trees serving as sub-classifiers. With 100 decision trees, a random forest classifier is fitted.\n",
    "\n",
    "A pipeline is built to identify the best parameters for the RFI and RFC models. When utilising the RFC model, RFI is fitted to identify the appropriate amount of features. DT's maximum depth is set to 5,6,7,8, and 9. The minimum sample split is set to 2 and 5."
   ]
  },
  {
   "cell_type": "code",
   "execution_count": 89,
   "metadata": {},
   "outputs": [
    {
     "name": "stdout",
     "output_type": "stream",
     "text": [
      "Fitting 5 folds for each of 40 candidates, totalling 200 fits\n"
     ]
    },
    {
     "name": "stderr",
     "output_type": "stream",
     "text": [
      "[Parallel(n_jobs=-2)]: Using backend LokyBackend with 3 concurrent workers.\n",
      "[Parallel(n_jobs=-2)]: Done  44 tasks      | elapsed:  3.5min\n",
      "[Parallel(n_jobs=-2)]: Done 194 tasks      | elapsed: 16.6min\n",
      "[Parallel(n_jobs=-2)]: Done 200 out of 200 | elapsed: 17.1min finished\n"
     ]
    }
   ],
   "source": [
    "from sklearn.ensemble import RandomForestClassifier\n",
    "pipe_rf = Pipeline([('rfi_fs', RFIFeatureSelector()),\n",
    "                    ('rf', RandomForestClassifier(n_estimators=100))])\n",
    "\n",
    "params_pipe_rf = {'rfi_fs__n_features_': [5, 10,15, Data.shape[1]],\n",
    "                  'rf__max_depth': [5,6,7,8,9],\n",
    "                  'rf__min_samples_split': [2, 5]}\n",
    "\n",
    "gs_pipe_rf = GridSearchCV(estimator=pipe_rf, \n",
    "                          param_grid=params_pipe_rf, \n",
    "                          cv=cv_method,\n",
    "                          refit=True,\n",
    "                          n_jobs=-2,\n",
    "                          scoring='roc_auc',\n",
    "                          verbose=1) \n",
    "\n",
    "gs_pipe_rf.fit(Data_train, target_train);\n",
    "\n",
    "\n"
   ]
  },
  {
   "cell_type": "markdown",
   "metadata": {},
   "source": [
    "The ideal number of features using the RFC model is 23 with Max-depth as 8"
   ]
  },
  {
   "cell_type": "code",
   "execution_count": 91,
   "metadata": {},
   "outputs": [
    {
     "data": {
      "text/plain": [
       "{'rf__max_depth': 8, 'rf__min_samples_split': 5, 'rfi_fs__n_features_': 23}"
      ]
     },
     "execution_count": 91,
     "metadata": {},
     "output_type": "execute_result"
    }
   ],
   "source": [
    "gs_pipe_rf.best_params_"
   ]
  },
  {
   "cell_type": "markdown",
   "metadata": {},
   "source": [
    "The performance score for 23 number of features is 0.779."
   ]
  },
  {
   "cell_type": "code",
   "execution_count": 92,
   "metadata": {},
   "outputs": [
    {
     "data": {
      "text/plain": [
       "0.7796036803181826"
      ]
     },
     "execution_count": 92,
     "metadata": {},
     "output_type": "execute_result"
    }
   ],
   "source": [
    "gs_pipe_rf.best_score_"
   ]
  },
  {
   "cell_type": "markdown",
   "metadata": {},
   "source": [
    "Below is a dataframe grid showing all the ideal settings, along with their performance score."
   ]
  },
  {
   "cell_type": "code",
   "execution_count": 95,
   "metadata": {},
   "outputs": [
    {
     "data": {
      "text/html": [
       "<div>\n",
       "<style scoped>\n",
       "    .dataframe tbody tr th:only-of-type {\n",
       "        vertical-align: middle;\n",
       "    }\n",
       "\n",
       "    .dataframe tbody tr th {\n",
       "        vertical-align: top;\n",
       "    }\n",
       "\n",
       "    .dataframe thead th {\n",
       "        text-align: right;\n",
       "    }\n",
       "</style>\n",
       "<table border=\"1\" class=\"dataframe\">\n",
       "  <thead>\n",
       "    <tr style=\"text-align: right;\">\n",
       "      <th></th>\n",
       "      <th>mean_score</th>\n",
       "      <th>std_score</th>\n",
       "      <th>max_score</th>\n",
       "      <th>min_score</th>\n",
       "      <th>rf__max_depth</th>\n",
       "      <th>rf__min_samples_split</th>\n",
       "      <th>rfi_fs__n_features_</th>\n",
       "    </tr>\n",
       "  </thead>\n",
       "  <tbody>\n",
       "    <tr>\n",
       "      <th>31</th>\n",
       "      <td>0.779604</td>\n",
       "      <td>0.005189</td>\n",
       "      <td>0.782806</td>\n",
       "      <td>0.769288</td>\n",
       "      <td>8.0</td>\n",
       "      <td>5.0</td>\n",
       "      <td>23.0</td>\n",
       "    </tr>\n",
       "    <tr>\n",
       "      <th>27</th>\n",
       "      <td>0.779296</td>\n",
       "      <td>0.004151</td>\n",
       "      <td>0.782761</td>\n",
       "      <td>0.771392</td>\n",
       "      <td>8.0</td>\n",
       "      <td>2.0</td>\n",
       "      <td>23.0</td>\n",
       "    </tr>\n",
       "    <tr>\n",
       "      <th>39</th>\n",
       "      <td>0.778769</td>\n",
       "      <td>0.004052</td>\n",
       "      <td>0.782555</td>\n",
       "      <td>0.771030</td>\n",
       "      <td>9.0</td>\n",
       "      <td>5.0</td>\n",
       "      <td>23.0</td>\n",
       "    </tr>\n",
       "    <tr>\n",
       "      <th>35</th>\n",
       "      <td>0.778692</td>\n",
       "      <td>0.004530</td>\n",
       "      <td>0.782951</td>\n",
       "      <td>0.769916</td>\n",
       "      <td>9.0</td>\n",
       "      <td>2.0</td>\n",
       "      <td>23.0</td>\n",
       "    </tr>\n",
       "    <tr>\n",
       "      <th>19</th>\n",
       "      <td>0.778148</td>\n",
       "      <td>0.004638</td>\n",
       "      <td>0.781019</td>\n",
       "      <td>0.768925</td>\n",
       "      <td>7.0</td>\n",
       "      <td>2.0</td>\n",
       "      <td>23.0</td>\n",
       "    </tr>\n",
       "  </tbody>\n",
       "</table>\n",
       "</div>"
      ],
      "text/plain": [
       "    mean_score  std_score  max_score  min_score  rf__max_depth  \\\n",
       "31    0.779604   0.005189   0.782806   0.769288            8.0   \n",
       "27    0.779296   0.004151   0.782761   0.771392            8.0   \n",
       "39    0.778769   0.004052   0.782555   0.771030            9.0   \n",
       "35    0.778692   0.004530   0.782951   0.769916            9.0   \n",
       "19    0.778148   0.004638   0.781019   0.768925            7.0   \n",
       "\n",
       "    rf__min_samples_split  rfi_fs__n_features_  \n",
       "31                    5.0                 23.0  \n",
       "27                    2.0                 23.0  \n",
       "39                    5.0                 23.0  \n",
       "35                    2.0                 23.0  \n",
       "19                    2.0                 23.0  "
      ]
     },
     "execution_count": 95,
     "metadata": {},
     "output_type": "execute_result"
    }
   ],
   "source": [
    "RF_results = get_search_results(gs_pipe_rf)\n",
    "RF_results.head()"
   ]
  },
  {
   "cell_type": "code",
   "execution_count": 96,
   "metadata": {},
   "outputs": [
    {
     "data": {
      "image/png": "[encoded data removed]",
      "text/plain": [
       "<Figure size 432x288 with 1 Axes>"
      ]
     },
     "metadata": {
      "image/png": {
       "height": 281,
       "width": 445
      }
     },
     "output_type": "display_data"
    }
   ],
   "source": [
    "RF_results_10_features = RF_results[RF_results['rfi_fs__n_features_'] == 10.0]\n",
    "\n",
    "\n",
    "for i in RF_results_10_features['rf__max_depth'].unique():\n",
    "    temp = RF_results_10_features[RF_results_10_features['rf__max_depth'] == i]\n",
    "    plt.plot(temp['rf__min_samples_split'], temp['mean_score'], marker = '.', label = i)\n",
    "    \n",
    "plt.legend(title = \"Max Depth\")\n",
    "plt.xlabel('Min Samples for Split')\n",
    "plt.ylabel(\"roc_auc\")\n",
    "plt.title(\"Random Forest Performance Comparison with 23 Features\")\n",
    "plt.show()"
   ]
  },
  {
   "cell_type": "markdown",
   "metadata": {},
   "source": [
    "A visual representation of the performance score with number of features =10 with varying depth is displayed above."
   ]
  },
  {
   "cell_type": "markdown",
   "metadata": {},
   "source": [
    "## Model Comparision <a name=\"MC\"></a>"
   ]
  },
  {
   "cell_type": "markdown",
   "metadata": {},
   "source": [
    "## Performance Comparison \n",
    "\n",
    "The following performance scores are derived from the models\n",
    "\n",
    "- KNN 0.743\n",
    "- Logistic Regression 0.712\n",
    "- Naive Bayes 0.719\n",
    "- Decision Tree 0.72\n",
    "- Random Forest Classifier 0.779\n",
    "\n",
    "It is observed that  Random Forest Classifier has the highest AUC of 0.779. Where the difference is significant or not can be identified by conducting a paired t-test"
   ]
  },
  {
   "cell_type": "markdown",
   "metadata": {},
   "source": [
    "## Cross-validation "
   ]
  },
  {
   "cell_type": "code",
   "execution_count": 104,
   "metadata": {},
   "outputs": [
    {
     "data": {
      "text/plain": [
       "0.7323004294296016"
      ]
     },
     "execution_count": 104,
     "metadata": {},
     "output_type": "execute_result"
    }
   ],
   "source": [
    "from sklearn.model_selection import cross_val_score\n",
    "\n",
    "cv_method_ttest = StratifiedKFold(n_splits=10, random_state=111)\n",
    "\n",
    "cv_results_KNN = cross_val_score(estimator=gs_pipe_KNN.best_estimator_,\n",
    "                                 X=Data_test,\n",
    "                                 y=target_test, \n",
    "                                 cv=cv_method_ttest, \n",
    "                                 n_jobs=-2,\n",
    "                                 scoring='roc_auc')\n",
    "cv_results_KNN.mean()"
   ]
  },
  {
   "cell_type": "code",
   "execution_count": 105,
   "metadata": {},
   "outputs": [
    {
     "data": {
      "text/plain": [
       "0.7117969626766398"
      ]
     },
     "execution_count": 105,
     "metadata": {},
     "output_type": "execute_result"
    }
   ],
   "source": [
    "cv_results_LR = cross_val_score(best_lr, Data_test, target_test, scoring = \"roc_auc\", cv = cv_method_ttest)\n",
    "\n",
    "cv_results_LR.mean()"
   ]
  },
  {
   "cell_type": "code",
   "execution_count": 106,
   "metadata": {},
   "outputs": [
    {
     "data": {
      "text/plain": [
       "0.7171984678333587"
      ]
     },
     "execution_count": 106,
     "metadata": {},
     "output_type": "execute_result"
    }
   ],
   "source": [
    "cv_results_NB = cross_val_score(estimator=gs_pipe_NB.best_estimator_,\n",
    "                                X=Data_test,\n",
    "                                y=target_test, \n",
    "                                cv=cv_method_ttest, \n",
    "                                n_jobs=-2,\n",
    "                                scoring='roc_auc')\n",
    "cv_results_NB.mean()"
   ]
  },
  {
   "cell_type": "code",
   "execution_count": 107,
   "metadata": {},
   "outputs": [
    {
     "data": {
      "text/plain": [
       "0.7226646027928515"
      ]
     },
     "execution_count": 107,
     "metadata": {},
     "output_type": "execute_result"
    }
   ],
   "source": [
    "cv_results_DT2 = cross_val_score(estimator=gs_pipe_DT2.best_estimator_,\n",
    "                                X=Data_test,\n",
    "                                y=target_test, \n",
    "                                cv=cv_method_ttest, \n",
    "                                n_jobs=-2,\n",
    "                                scoring='roc_auc')\n",
    "cv_results_DT2.mean()"
   ]
  },
  {
   "cell_type": "code",
   "execution_count": 108,
   "metadata": {},
   "outputs": [
    {
     "data": {
      "text/plain": [
       "0.7737657570612385"
      ]
     },
     "execution_count": 108,
     "metadata": {},
     "output_type": "execute_result"
    }
   ],
   "source": [
    "cv_results_rf = cross_val_score(estimator=gs_pipe_rf.best_estimator_,\n",
    "                                X=Data_test,\n",
    "                                y=target_test, \n",
    "                                cv=cv_method_ttest, \n",
    "                                n_jobs=-2,\n",
    "                                scoring='roc_auc')\n",
    "cv_results_rf.mean()\n"
   ]
  },
  {
   "cell_type": "markdown",
   "metadata": {},
   "source": [
    "According to the above performance results, the Random Forest Classifier has same better rate of prediction."
   ]
  },
  {
   "cell_type": "markdown",
   "metadata": {},
   "source": [
    "## Paired t-test for model comparison\n",
    "\n",
    "A paired t-test is performed on prediction models to determine whether or not their performance is statistically significant. If the p-value is less than 0.05, the models are statistically significant; if it is greater than 0.05, the models are not statistically significant at the 95 percent level of significance.\n",
    "\n",
    "Random Forest has the greatest score of the models discussed above, thus it is compared against the other models to see if they are statistically significant. The t-test is performed using the stats.ttest rel function in the scipy package."
   ]
  },
  {
   "cell_type": "code",
   "execution_count": 109,
   "metadata": {},
   "outputs": [
    {
     "name": "stdout",
     "output_type": "stream",
     "text": [
      "Ttest_relResult(statistic=11.523000898780746, pvalue=1.0869452598121867e-06)\n",
      "Ttest_relResult(statistic=8.687006076770915, pvalue=1.139473648874477e-05)\n",
      "Ttest_relResult(statistic=9.332957212119947, pvalue=6.336950739788017e-06)\n",
      "Ttest_relResult(statistic=6.3280354775107925, pvalue=0.00013637323706430535)\n",
      "Ttest_relResult(statistic=-2.2394189374222444, pvalue=0.05189248177222549)\n",
      "Ttest_relResult(statistic=0.6611867255870284, pvalue=0.525055388494238)\n",
      "Ttest_relResult(statistic=1.7654866155046385, pvalue=0.1112957789297061)\n"
     ]
    }
   ],
   "source": [
    "from scipy import stats\n",
    "\n",
    "print(stats.ttest_rel(cv_results_rf, cv_results_DT2))\n",
    "print(stats.ttest_rel(cv_results_rf, cv_results_KNN))\n",
    "print(stats.ttest_rel(cv_results_rf, cv_results_LR))\n",
    "print(stats.ttest_rel(cv_results_rf, cv_results_NB))\n",
    "print(stats.ttest_rel(cv_results_DT2, cv_results_KNN))\n",
    "print(stats.ttest_rel(cv_results_DT2, cv_results_NB))\n",
    "print(stats.ttest_rel(cv_results_DT2, cv_results_LR))"
   ]
  },
  {
   "cell_type": "markdown",
   "metadata": {},
   "source": [
    "The t-test results reveal that there is no statistically significant difference between the Decision Tree and Random Forest classifiers and the other models. Random Forest will be chosen as the best model. "
   ]
  },
  {
   "cell_type": "markdown",
   "metadata": {},
   "source": [
    "Despite the fact that Accuracy was used to improve the algorithm hyperparameters, we will utilise the following metrics to assess models based on the test set:\n",
    "- Precision\n",
    "- Recall\n",
    "- F1 Score (the harmonic average of precision and recall)\n",
    "- Confusion Matrix\n",
    "These metrics may be calculated with sklearn.metrics' classification report. The categorisation reports are displayed in the table below."
   ]
  },
  {
   "cell_type": "code",
   "execution_count": 110,
   "metadata": {},
   "outputs": [],
   "source": [
    "pred_KNN = gs_pipe_KNN.predict(Data_test)"
   ]
  },
  {
   "cell_type": "code",
   "execution_count": 111,
   "metadata": {},
   "outputs": [],
   "source": [
    "pred_LR = best_lr.predict(Data_test)"
   ]
  },
  {
   "cell_type": "code",
   "execution_count": 112,
   "metadata": {},
   "outputs": [],
   "source": [
    "pred_NB = gs_pipe_NB.predict(Data_test)"
   ]
  },
  {
   "cell_type": "code",
   "execution_count": 113,
   "metadata": {},
   "outputs": [],
   "source": [
    "pred_DT = gs_pipe_DT2.predict(Data_test)"
   ]
  },
  {
   "cell_type": "code",
   "execution_count": 114,
   "metadata": {},
   "outputs": [],
   "source": [
    "pred_rf=gs_pipe_rf.predict(Data_test)\n"
   ]
  },
  {
   "cell_type": "markdown",
   "metadata": {},
   "source": [
    "### Classification Report"
   ]
  },
  {
   "cell_type": "code",
   "execution_count": 115,
   "metadata": {},
   "outputs": [
    {
     "name": "stdout",
     "output_type": "stream",
     "text": [
      "\n",
      "Confusion matrix for Logistic Regression\n",
      "              precision    recall  f1-score   support\n",
      "\n",
      "           0       0.81      0.98      0.89      7009\n",
      "           1       0.71      0.18      0.29      1991\n",
      "\n",
      "    accuracy                           0.80      9000\n",
      "   macro avg       0.76      0.58      0.59      9000\n",
      "weighted avg       0.79      0.80      0.75      9000\n",
      "\n",
      "\n",
      "Classification report for K-Nearest Neighbor\n",
      "              precision    recall  f1-score   support\n",
      "\n",
      "           0       0.83      0.95      0.89      7009\n",
      "           1       0.65      0.32      0.43      1991\n",
      "\n",
      "    accuracy                           0.81      9000\n",
      "   macro avg       0.74      0.63      0.66      9000\n",
      "weighted avg       0.79      0.81      0.79      9000\n",
      "\n",
      "\n",
      "Classification report for Naive Bayes\n",
      "              precision    recall  f1-score   support\n",
      "\n",
      "           0       0.78      1.00      0.88      7009\n",
      "           1       0.73      0.01      0.02      1991\n",
      "\n",
      "    accuracy                           0.78      9000\n",
      "   macro avg       0.75      0.50      0.45      9000\n",
      "weighted avg       0.77      0.78      0.69      9000\n",
      "\n",
      "\n",
      "Classification report for Decision Tree\n",
      "              precision    recall  f1-score   support\n",
      "\n",
      "           0       0.83      0.97      0.90      7009\n",
      "           1       0.73      0.33      0.45      1991\n",
      "\n",
      "    accuracy                           0.82      9000\n",
      "   macro avg       0.78      0.65      0.67      9000\n",
      "weighted avg       0.81      0.82      0.80      9000\n",
      "\n",
      "\n",
      "Confusion matrix for Random Forest Classifier\n",
      "              precision    recall  f1-score   support\n",
      "\n",
      "           0       0.84      0.95      0.89      7009\n",
      "           1       0.69      0.36      0.47      1991\n",
      "\n",
      "    accuracy                           0.82      9000\n",
      "   macro avg       0.76      0.65      0.68      9000\n",
      "weighted avg       0.80      0.82      0.80      9000\n",
      "\n"
     ]
    }
   ],
   "source": [
    "from sklearn import metrics\n",
    "print(\"\\nConfusion matrix for Logistic Regression\") \n",
    "print(metrics.classification_report(target_test, pred_LR))\n",
    "print(\"\\nClassification report for K-Nearest Neighbor\") \n",
    "print(metrics.classification_report(target_test, pred_KNN))\n",
    "print(\"\\nClassification report for Naive Bayes\") \n",
    "print(metrics.classification_report(target_test, pred_NB))\n",
    "print(\"\\nClassification report for Decision Tree\") \n",
    "print(metrics.classification_report(target_test, pred_DT))\n",
    "print(\"\\nConfusion matrix for Random Forest Classifier\") \n",
    "print(metrics.classification_report(target_test, pred_rf))"
   ]
  },
  {
   "cell_type": "markdown",
   "metadata": {},
   "source": [
    "### Confusion Matrix"
   ]
  },
  {
   "cell_type": "code",
   "execution_count": 116,
   "metadata": {},
   "outputs": [
    {
     "name": "stdout",
     "output_type": "stream",
     "text": [
      "\n",
      "Confusion matrix for Logistic Regression\n",
      "[[6856  153]\n",
      " [1624  367]]\n",
      "\n",
      "Confusion matrix for K-Nearest Neighbor\n",
      "[[6675  334]\n",
      " [1363  628]]\n",
      "\n",
      "Confusion matrix for Naive Bayes\n",
      "[[7003    6]\n",
      " [1975   16]]\n",
      "\n",
      "Confusion matrix for Decision Tree\n",
      "[[6765  244]\n",
      " [1341  650]]\n",
      "\n",
      "Confusion matrix for Random Forest Classifier\n",
      "[[6684  325]\n",
      " [1283  708]]\n"
     ]
    }
   ],
   "source": [
    "from sklearn import metrics\n",
    "print(\"\\nConfusion matrix for Logistic Regression\") \n",
    "print(metrics.confusion_matrix(target_test, pred_LR))\n",
    "print(\"\\nConfusion matrix for K-Nearest Neighbor\") \n",
    "print(metrics.confusion_matrix(target_test, pred_KNN))\n",
    "print(\"\\nConfusion matrix for Naive Bayes\") \n",
    "print(metrics.confusion_matrix(target_test, pred_NB))\n",
    "print(\"\\nConfusion matrix for Decision Tree\") \n",
    "print(metrics.confusion_matrix(target_test, pred_DT))\n",
    "print(\"\\nConfusion matrix for Random Forest Classifier\") \n",
    "print(metrics.confusion_matrix(target_test, pred_rf))"
   ]
  },
  {
   "cell_type": "markdown",
   "metadata": {},
   "source": [
    "Both Decision Tree and Random Forestshows similar performance. The confusion matrices are in line with the classification reports. This is in contrast to our finding that Random Forest is statistically the best performer when it comes to the AUC and Accuracy metric. Navive Bayes has the best recall score where we might say that it produces highest recall score for clients with no defaults. "
   ]
  },
  {
   "cell_type": "markdown",
   "metadata": {},
   "source": [
    "# Critique & Limitations <a name=\"CL\"></a>\n",
    "\n",
    "Our modelling technique is not without errors and limits. We used a black-box strategy since we valued raw predictive performance over interpretability. The Random Forest classifier outperforms the other models statistically. As a result, we may be able to enhance it by broadening the hyperparameter search field and integrating more parameters of this classification approach. Furthermore, DT and other ensemble approaches based on trees might be considered as possibly superior models.In the future, we may think about doing a more in-depth examination of the feature selection and ranking process, as well as our hyperparameter space selections. When creating the NB, we used a blanket power transformation on the training data, disregarding the fake features in the dataset. This might account for some of the NB's low performance on the test set. A possible method is to construct a Gaussian NB and a Bernoulli NB independently on the numerical and dummy descriptive characteristics. Because NB assumes inter-independence conditioned on the value of the target feature, we may calculate a final prediction by multiplying predictions from each model. "
   ]
  },
  {
   "cell_type": "markdown",
   "metadata": {},
   "source": [
    "# Summary & Conclusions <a name=\"SC\"></a>\n",
    "\n"
   ]
  },
  {
   "cell_type": "markdown",
   "metadata": {},
   "source": [
    "## Project Summary <a name=\"PS\"></a>\n",
    "\n",
    "In Phase I, the project's goal was to perform data preprocessing on Taiwan's Credit Card Customer defaults data by dropping ID column, checking the dataypes and missing values, visualising Univariate, Biavariate and Multivariate data and explore the data to gain a better understanding of all the Demographic and Financial variables' impact on the clients' default payments in Taiwan, and identify the key drivers that determine its likelihood. <br>\n",
    "\n",
    "Using the findings and data collected in Phase I, target feature was defined, data was further transformed using Min-Max Scaling for machine learning. Optimum features were selected using the Random Forest information feature selection method. Then 5-fold stratified cross-validation was executed using feature selection and hyperparameter serach inside a single pipeline. Dataset was then split inyo 70:30 ratio in training and testing data. Models: K-Nearest Neighbours (KNN),  Logistic Regression (LR), Decision Trees (DT), Naive Bayes (NB), and Random Forest Classifier (RF) were established and created to assess the predicted accuracy of probability of defaults on credit data using various categorisation methods in Phase II."
   ]
  },
  {
   "cell_type": "markdown",
   "metadata": {},
   "source": [
    "## Summary of Findings <a name=\"SF\"></a>\n",
    "\n",
    "From the project we found from visualising the data that in Taiwan, there are more female credit clients than male credit clients. University students are more likely to default than graduates and high school students. The number of credit card users is highest between the ages of 25 and 40, but steadily declines, indicating that as people become older, they use less credit cards.\n",
    "By implementing various machine learning models on the pre-processed and transformed data we found that Decision Tree and Random Forest Classifier have a very slight difference in their model perfomance accuracy score. However, Random Forest outperforms Decision Tree model in ROC-AUC score. Further, a paired t-test is performed to check it’s performance whether they are statistically significant or not. However, we saw that there is still no significant difference between Decision Tree and Random Forest classifier models. They both shows better performance score comapred to other models. So, a classification report and confusion matrix is build. "
   ]
  },
  {
   "cell_type": "markdown",
   "metadata": {},
   "source": [
    "## Conclusions <a name=\"C\"></a>\n",
    "\n",
    "On the training data, the Random Forest Classifier with 10 of the best features chosen by Random Forest Importance (RFI) achieve the greatest cross-validated Accuracy score. Furthermore, when tested on test data (in a cross-validated method), the random forest classifier model again exceeds all other models in terms of AUC. On the test data, however, the Naive Bayes model produces the greatest recall score. We saw that in terms of accuracy, both Decision Tree and Random Forest turns out to be equal performer. We also see that when conditioned on the values of the hyperparameters in general, our models are not very sensitive to the number of features chosen by RFI. As a consequence, it appears that working with 10 features is better to working with the entire feature set, perhaps avoiding overfitting and resulting in irrational outcomes. Decision Tree intakes 10 features with max depth of 3 whereas Random Forest model results in max depth of 8 and 23 features. Since there is not a huge differenve between these two models, we can also say that Decision Tree model might work better as it uses less features. "
   ]
  },
  {
   "cell_type": "markdown",
   "metadata": {},
   "source": [
    "# References <a name=\"R\"></a>\n",
    "\n",
    "- Taiwan’s cash-card write-offs hit record high [Review of Taiwan’s cash-card write-offs hit record high].<a name=\"1\"></a>\n",
    "- Wang, E. (n.d.). Review of Taiwan’s Credit Card Crisis https://sevenpillarsinstitute.org/case-studies/taiwans-credit-card-crisis/<a name=\"2\"></a>\n",
    "- Financial Times. https://www.ft.com/content/8c9e45e2-2f47-11da-8b51-00000e2511c8<a name=\"3\"></a>\n",
    "- UCI Machine Learning Repository: default of credit card clients Data Set. (2016). Uci.edu. https://archive.ics.uci.edu/ml/datasets/default+of+credit+card+clients\n",
    "- Default of Credit Card Clients Dataset. (n.d.). Kaggle.com. https://www.kaggle.com/uciml/default-of-credit-card-clients-dataset\n",
    "- Aksakalli, Vural, Babak Abbasi, and Yong Kai Wong. 2018. SpFSR: Feature Selection and Ranking by Simultaneous Perturbation Stochastic Approximation.https://github.com/vaksakalli/spFSR"
   ]
  }
 ],
 "metadata": {
  "kernelspec": {
   "display_name": "Python 3",
   "language": "python",
   "name": "python3"
  },
  "language_info": {
   "codemirror_mode": {
    "name": "ipython",
    "version": 3
   },
   "file_extension": ".py",
   "mimetype": "text/x-python",
   "name": "python",
   "nbconvert_exporter": "python",
   "pygments_lexer": "ipython3",
   "version": "3.7.6"
  }
 },
 "nbformat": 4,
 "nbformat_minor": 4
}
